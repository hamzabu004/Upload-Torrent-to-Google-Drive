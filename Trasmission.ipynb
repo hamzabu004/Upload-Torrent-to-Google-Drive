{
  "cells": [
    {
      "cell_type": "markdown",
      "metadata": {
        "id": "view-in-github",
        "colab_type": "text"
      },
      "source": [
        "<a href=\"https://colab.research.google.com/github/hamzabu004/Upload-to-Google-Drive/blob/main/Trasmission.ipynb\" target=\"_parent\"><img src=\"https://colab.research.google.com/assets/colab-badge.svg\" alt=\"Open In Colab\"/></a>"
      ]
    },
    {
      "cell_type": "markdown",
      "metadata": {
        "id": "tdA5uJLjLH6s"
      },
      "source": [
        "# Trasmission\n"
      ]
    },
    {
      "cell_type": "markdown",
      "metadata": {
        "id": "TqkHw-rr7O76"
      },
      "source": [
        "# **Setup**"
      ]
    },
    {
      "cell_type": "code",
      "execution_count": null,
      "metadata": {
        "id": "HGKQzIqrNf7r"
      },
      "outputs": [],
      "source": [
        "from google.colab import drive\n",
        "drive.mount('/content/drive')"
      ]
    },
    {
      "cell_type": "code",
      "execution_count": null,
      "metadata": {
        "id": "lSK_c0jCOIJo"
      },
      "outputs": [],
      "source": [
        "!sudo apt-get install transmission-remote"
      ]
    },
    {
      "cell_type": "code",
      "execution_count": null,
      "metadata": {
        "id": "G3KPHiHBOURU"
      },
      "outputs": [],
      "source": [
        "!sudo apt install transmission-daemon"
      ]
    },
    {
      "cell_type": "code",
      "execution_count": null,
      "metadata": {
        "id": "YVQq0yiRPSE2"
      },
      "outputs": [],
      "source": [
        "!sudo apt install transmission"
      ]
    },
    {
      "cell_type": "code",
      "execution_count": null,
      "metadata": {
        "id": "oydGYYjmOcMS"
      },
      "outputs": [],
      "source": [
        "!transmission-daemon --download-dir \"/content/drive/My Drive/Torrent/\""
      ]
    },
    {
      "cell_type": "code",
      "execution_count": null,
      "metadata": {
        "id": "SyJqBnWuOeGu"
      },
      "outputs": [],
      "source": [
        "!transmission-daemon --dump-settings"
      ]
    },
    {
      "cell_type": "code",
      "execution_count": null,
      "metadata": {
        "id": "BikJ5vAYOhmH"
      },
      "outputs": [],
      "source": [
        "!transmission-daemon "
      ]
    },
    {
      "cell_type": "markdown",
      "metadata": {
        "id": "nvI9oNha4SzJ"
      },
      "source": [
        "# Enter **Magnet**"
      ]
    },
    {
      "cell_type": "code",
      "execution_count": null,
      "metadata": {
        "id": "OmQwCqPg-x0V"
      },
      "outputs": [],
      "source": [
        "#@title Enter Link\n",
        "link = \"magnet:?xt=urn:btih:3E2F0862F234B857269D59644ABEA2F4A1F83EF1&dn=The.Blacklist.S09.COMPLETE.720p.AMZN.WEBRip.x264-GalaxyTV&tr=udp%3A%2F%2Fopen.stealth.si%3A80%2Fannounce&tr=udp%3A%2F%2Ftracker.tiny-vps.com%3A6969%2Fannounce&tr=udp%3A%2F%2Ftracker.opentrackr.org%3A1337%2Fannounce&tr=udp%3A%2F%2Ftracker.torrent.eu.org%3A451%2Fannounce&tr=udp%3A%2F%2Fexplodie.org%3A6969%2Fannounce&tr=udp%3A%2F%2Ftracker.cyberia.is%3A6969%2Fannounce&tr=udp%3A%2F%2Fipv4.tracker.harry.lu%3A80%2Fannounce&tr=udp%3A%2F%2Fp4p.arenabg.com%3A1337%2Fannounce&tr=udp%3A%2F%2Ftracker.birkenwald.de%3A6969%2Fannounce&tr=udp%3A%2F%2Ftracker.moeking.me%3A6969%2Fannounce&tr=udp%3A%2F%2Fopentor.org%3A2710%2Fannounce&tr=udp%3A%2F%2Ftracker.dler.org%3A6969%2Fannounce&tr=udp%3A%2F%2F9.rarbg.me%3A2970%2Fannounce&tr=https%3A%2F%2Ftracker.foreverpirates.co%3A443%2Fannounce&tr=udp%3A%2F%2Ftracker.opentrackr.org%3A1337%2Fannounce&tr=http%3A%2F%2Ftracker.openbittorrent.com%3A80%2Fannounce&tr=udp%3A%2F%2Fopentracker.i2p.rocks%3A6969%2Fannounce&tr=udp%3A%2F%2Ftracker.internetwarriors.net%3A1337%2Fannounce&tr=udp%3A%2F%2Ftracker.leechers-paradise.org%3A6969%2Fannounce&tr=udp%3A%2F%2Fcoppersurfer.tk%3A6969%2Fannounce&tr=udp%3A%2F%2Ftracker.zer0day.to%3A1337%2Fannounce\" #@param {type:\"string\"}\n",
        "!transmission-remote -get {link}"
      ]
    },
    {
      "cell_type": "markdown",
      "metadata": {
        "id": "mFt7XZHBSFY5"
      },
      "source": [
        ""
      ]
    },
    {
      "cell_type": "markdown",
      "metadata": {
        "id": "_RfzLbe88e93"
      },
      "source": [
        "Check Torrent(s)"
      ]
    },
    {
      "cell_type": "code",
      "execution_count": null,
      "metadata": {
        "colab": {
          "background_save": true
        },
        "id": "TzbaEu-YRojk"
      },
      "outputs": [],
      "source": [
        "!transmission-remote -l"
      ]
    },
    {
      "cell_type": "code",
      "execution_count": null,
      "metadata": {
        "cellView": "form",
        "id": "tjrnTlq8QSPs"
      },
      "outputs": [],
      "source": [
        "#@title Remove Torrent\n",
        "ID=1 #@param {type:\"integer\"}\n",
        "!transmission-remote -t {ID} -r\n"
      ]
    },
    {
      "cell_type": "code",
      "execution_count": null,
      "metadata": {
        "id": "MK8Qvd8B016i"
      },
      "outputs": [],
      "source": [
        "!echo $STR"
      ]
    }
  ],
  "metadata": {
    "colab": {
      "collapsed_sections": [],
      "name": "Trasmission",
      "provenance": [],
      "include_colab_link": true
    },
    "kernelspec": {
      "display_name": "Python 3",
      "name": "python3"
    }
  },
  "nbformat": 4,
  "nbformat_minor": 0
}