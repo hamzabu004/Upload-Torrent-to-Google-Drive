{
  "cells": [
    {
      "cell_type": "markdown",
      "metadata": {
        "id": "view-in-github",
        "colab_type": "text"
      },
      "source": [
        "<a href=\"https://colab.research.google.com/github/hamzabu004/Upload-to-Google-Drive/blob/main/Trasmission.ipynb\" target=\"_parent\"><img src=\"https://colab.research.google.com/assets/colab-badge.svg\" alt=\"Open In Colab\"/></a>"
      ]
    },
    {
      "cell_type": "markdown",
      "metadata": {
        "id": "tdA5uJLjLH6s"
      },
      "source": [
        "# Trasmission\n"
      ]
    },
    {
      "cell_type": "markdown",
      "metadata": {
        "id": "TqkHw-rr7O76"
      },
      "source": [
        "# **Setup**"
      ]
    },
    {
      "cell_type": "code",
      "execution_count": null,
      "metadata": {
        "id": "HGKQzIqrNf7r",
        "colab": {
          "base_uri": "https://localhost:8080/"
        },
        "outputId": "b3a5ed3c-cc8e-45c8-fdc0-3d8aa2c69c82"
      },
      "outputs": [
        {
          "output_type": "stream",
          "name": "stdout",
          "text": [
            "Mounted at /content/drive\n"
          ]
        }
      ],
      "source": [
        "from google.colab import drive\n",
        "drive.mount('/content/drive')"
      ]
    },
    {
      "cell_type": "code",
      "execution_count": null,
      "metadata": {
        "id": "lSK_c0jCOIJo"
      },
      "outputs": [],
      "source": [
        "!sudo apt install transmission-remote"
      ]
    },
    {
      "cell_type": "code",
      "execution_count": null,
      "metadata": {
        "id": "G3KPHiHBOURU"
      },
      "outputs": [],
      "source": [
        "!sudo apt install transmission-daemon"
      ]
    },
    {
      "cell_type": "code",
      "execution_count": null,
      "metadata": {
        "id": "oydGYYjmOcMS"
      },
      "outputs": [],
      "source": [
        "!transmission-daemon --download-dir \"/content/drive/My Drive/Torrent/\""
      ]
    },
    {
      "cell_type": "code",
      "execution_count": null,
      "metadata": {
        "id": "4qhrulxaBZg-"
      },
      "outputs": [],
      "source": [
        "!transmission-daemon --script-torrent-done-enabled true"
      ]
    },
    {
      "cell_type": "code",
      "execution_count": null,
      "metadata": {
        "id": "SyJqBnWuOeGu"
      },
      "outputs": [],
      "source": [
        "!transmission-daemon --dump-settings"
      ]
    },
    {
      "cell_type": "code",
      "execution_count": null,
      "metadata": {
        "id": "BikJ5vAYOhmH"
      },
      "outputs": [],
      "source": [
        "!transmission-daemon "
      ]
    },
    {
      "cell_type": "code",
      "source": [
        "!pip install twilio "
      ],
      "metadata": {
        "id": "YWQ2pbNp0HmJ"
      },
      "execution_count": null,
      "outputs": []
    },
    {
      "cell_type": "markdown",
      "metadata": {
        "id": "nvI9oNha4SzJ"
      },
      "source": [
        "# Enter **Magnet**"
      ]
    },
    {
      "cell_type": "code",
      "source": [
        "!cp /content/drive/MyDrive/code/script.sh /content\n",
        "!cp /content/drive/MyDrive/code/test.py /content"
      ],
      "metadata": {
        "id": "Nli7U12ppDnt"
      },
      "execution_count": null,
      "outputs": []
    },
    {
      "cell_type": "code",
      "source": [
        ""
      ],
      "metadata": {
        "id": "p87096K1Jxok"
      },
      "execution_count": null,
      "outputs": []
    },
    {
      "cell_type": "code",
      "source": [
        "!transmission-remote --torrent-done-script  /content/script.sh\n"
      ],
      "metadata": {
        "id": "PuV6Fgfd812c"
      },
      "execution_count": null,
      "outputs": []
    },
    {
      "cell_type": "code",
      "source": [
        "!chmod +x ./script.sh"
      ],
      "metadata": {
        "id": "t2YZ1qOro21F"
      },
      "execution_count": null,
      "outputs": []
    },
    {
      "cell_type": "code",
      "execution_count": null,
      "metadata": {
        "id": "OmQwCqPg-x0V"
      },
      "outputs": [],
      "source": [
        "#@title Enter Link\n",
        "link = \"\" #@param {type:\"string\"}\n",
        "!transmission-remote -a \"magnet:?xt=urn:btih:4EEC4F831BB9391B03A27B0095EEFB5742B51F82&dn=Learning+OpenCV+4+Computer+Vision+with+Python+3%3A+Get+to+grips+with+tools%2C+techniques%2C+and+algorithms+for+computer+vision+and+machine+learning%2C+3rd+Edition+%5BNulledPremium%5D&tr=udp%3A%2F%2Fopen.demonii.si%3A1337%2Fannounce&tr=udp%3A%2F%2Fp4p.arenabg.com%3A1337%2Fannounce&tr=udp%3A%2F%2Ftracker.torrent.eu.org%3A451%2Fannounce&tr=udp%3A%2F%2Ftracker.cyberia.is%3A6969%2Fannounce&tr=udp%3A%2F%2Ftracker.uw0.xyz%3A6969%2Fannounce&tr=udp%3A%2F%2Fexodus.desync.com%3A6969%2Fannounce&tr=udp%3A%2F%2Fexplodie.org%3A6969%2Fannounce&tr=udp%3A%2F%2Fdenis.stalker.upeer.me%3A6969%2Fannounce&tr=udp%3A%2F%2Ftracker.opentrackr.org%3A1337%2Fannounce&tr=udp%3A%2F%2F9.rarbg.to%3A2710%2Fannounce&tr=udp%3A%2F%2Ftracker.tiny-vps.com%3A6969%2Fannounce&tr=udp%3A%2F%2Fipv4.tracker.harry.lu%3A80%2Fannounce&tr=udp%3A%2F%2Ftracker.coppersurfer.tk%3A6969%2Fannounce&tr=udp%3A%2F%2Ftracker.leechers-paradise.org%3A6969%2Fannounce&tr=udp%3A%2F%2Ftracker.zer0day.to%3A1337%2Fannounce&tr=udp%3A%2F%2Ftracker.leechers-paradise.org%3A6969%2Fannounce&tr=udp%3A%2F%2Fcoppersurfer.tk%3A6969%2Fannounce\""
      ]
    },
    {
      "cell_type": "markdown",
      "metadata": {
        "id": "mFt7XZHBSFY5"
      },
      "source": [
        ""
      ]
    },
    {
      "cell_type": "markdown",
      "metadata": {
        "id": "_RfzLbe88e93"
      },
      "source": [
        "Check Torrent(s)"
      ]
    },
    {
      "cell_type": "code",
      "execution_count": null,
      "metadata": {
        "id": "TzbaEu-YRojk"
      },
      "outputs": [],
      "source": [
        "!transmission-remote -l"
      ]
    },
    {
      "cell_type": "code",
      "execution_count": null,
      "metadata": {
        "cellView": "form",
        "id": "tjrnTlq8QSPs"
      },
      "outputs": [],
      "source": [
        "#@title Remove Torrent\n",
        "ID= #@param {type:\"integer\"}\n",
        "!transmission-remote -t {ID} -r\n"
      ]
    },
    {
      "cell_type": "code",
      "execution_count": null,
      "metadata": {
        "id": "MK8Qvd8B016i"
      },
      "outputs": [],
      "source": [
        "!transmission-remote --help"
      ]
    }
  ],
  "metadata": {
    "colab": {
      "collapsed_sections": [],
      "name": "Trasmission",
      "provenance": [],
      "include_colab_link": true
    },
    "kernelspec": {
      "display_name": "Python 3",
      "name": "python3"
    }
  },
  "nbformat": 4,
  "nbformat_minor": 0
}